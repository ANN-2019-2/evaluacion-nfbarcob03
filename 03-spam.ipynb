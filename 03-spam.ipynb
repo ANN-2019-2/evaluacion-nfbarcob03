{
 "cells": [
  {
   "cell_type": "markdown",
   "metadata": {
    "colab": {},
    "colab_type": "code",
    "id": "n3lnWjvI83ix"
   },
   "source": [
    "# Filtado de mensajes spam"
   ]
  },
  {
   "cell_type": "markdown",
   "metadata": {},
   "source": [
    "## Descripción del problema real"
   ]
  },
  {
   "cell_type": "markdown",
   "metadata": {},
   "source": [
    "La recepción de publicidad no deseada a traves mensajes de texto usando SMS (Short Message Service) es un problema que afecta a muchos usuarios de teléfonos móviles. El problema radica en que los usuarios deben pagar por los mesajes recibidos, y por este motivo resulta muy importante que las compañías prestadoras del servicio puedan filtrar mensajes indeseados antes de enviarlos a su destinatario final. Los mensajes tienen una longitud máxima de 160 caracteres, por lo que el texto resulta poco para realizar la clasificación, en comparación con textos más largos (como los emails). Adicionalmente, los errores de digitación dificultan el proceso de detección automática."
   ]
  },
  {
   "cell_type": "markdown",
   "metadata": {},
   "source": [
    "## Descripción del problema en términos de los datos"
   ]
  },
  {
   "cell_type": "markdown",
   "metadata": {},
   "source": [
    "Se tiene una muestra contiene 5574 mensajes en inglés, no codificados y clasificados como legítimos (ham) o spam (http://www.dt.fee.unicamp.br/~tiago/smsspamcollection/). La información está almacenada en el archivo `datos/spam-sms.zip`.El problema en términos de los datos consiste en clasificar si un mensaje SMS es legítico o spam, a partir del análisis de las palabras que contiente, partiendo del supuesto de que ciertas palabras que son más frecuentes dependiendo del tipo de mensaje. Esto implica que en la fase de preparación de los datos se deben extraer las palabras que contiene cada mensaje para poder realizar el análsis."
   ]
  },
  {
   "cell_type": "markdown",
   "metadata": {},
   "source": [
    "## Aproximaciones posibles"
   ]
  },
  {
   "cell_type": "markdown",
   "metadata": {},
   "source": [
    "En este caso, se desea comparar los resultados de un modelo de redes neuronales artificiales y otras técnicas estadísticas para realizar la clasificación."
   ]
  },
  {
   "cell_type": "markdown",
   "metadata": {},
   "source": [
    "## Requerimientos"
   ]
  },
  {
   "cell_type": "markdown",
   "metadata": {},
   "source": [
    "Usted debe:\n",
    "\n",
    "* Preprocesar los datos para representarlos usando bag-of-words.\n",
    "\n",
    "\n",
    "* Construir un modelo de regresión logística como punto base para la comparación con otros modelos más complejos.\n",
    "\n",
    "\n",
    "* Construir un modelo de redes neuronales artificiales. Asimismo, debe determinar el número de neuronas en la capa o capas ocultas.\n",
    "\n",
    "\n",
    "* Utiizar una técnica como crossvalidation u otra similar para establecer la robustez del modelo.\n",
    "\n",
    "\n",
    "* Presentar métricas de desempeño para establecer las bondades y falencias de cada clasificador."
   ]
  },
  {
   "cell_type": "markdown",
   "metadata": {},
   "source": [
    "# Solución"
   ]
  },
  {
   "cell_type": "markdown",
   "metadata": {},
   "source": [
    "## Librerias \n",
    "Se importan las librrias necesarias para trabajar"
   ]
  },
  {
   "cell_type": "code",
   "execution_count": 88,
   "metadata": {},
   "outputs": [],
   "source": [
    "import pandas as pd\n",
    "import numpy as np\n",
    "import matplotlib.pyplot as plt\n",
    "import math\n",
    "import sklearn\n",
    "from random import seed\n",
    "from sklearn.linear_model import LogisticRegression\n",
    "from sklearn.metrics import accuracy_score, precision_score, recall_score, f1_score, confusion_matrix,classification_report\n",
    "from sklearn.model_selection import train_test_split,cross_val_score, KFold, GridSearchCV\n",
    "from sklearn.neural_network import MLPClassifier\n",
    "from sklearn.feature_extraction.text import CountVectorizer\n",
    "from sklearn.naive_bayes import MultinomialNB\n",
    "from sklearn import svm\n",
    "from scipy.stats import sem\n",
    "from sklearn import preprocessing\n",
    "from sklearn.pipeline import make_pipeline\n",
    "\n",
    "%matplotlib inline\n",
    "seed(1) "
   ]
  },
  {
   "cell_type": "markdown",
   "metadata": {},
   "source": [
    "## Importación de la data\n",
    "Se importa el dataset que esta en la carpeta de datos y fue obtenido del link provisto por el profesor anteriormente"
   ]
  },
  {
   "cell_type": "code",
   "execution_count": 27,
   "metadata": {},
   "outputs": [
    {
     "data": {
      "text/html": [
       "<div>\n",
       "<style scoped>\n",
       "    .dataframe tbody tr th:only-of-type {\n",
       "        vertical-align: middle;\n",
       "    }\n",
       "\n",
       "    .dataframe tbody tr th {\n",
       "        vertical-align: top;\n",
       "    }\n",
       "\n",
       "    .dataframe thead th {\n",
       "        text-align: right;\n",
       "    }\n",
       "</style>\n",
       "<table border=\"1\" class=\"dataframe\">\n",
       "  <thead>\n",
       "    <tr style=\"text-align: right;\">\n",
       "      <th></th>\n",
       "      <th>etiqueta</th>\n",
       "      <th>mensaje_sms</th>\n",
       "    </tr>\n",
       "  </thead>\n",
       "  <tbody>\n",
       "    <tr>\n",
       "      <th>0</th>\n",
       "      <td>ham</td>\n",
       "      <td>Go until jurong point, crazy.. Available only ...</td>\n",
       "    </tr>\n",
       "    <tr>\n",
       "      <th>1</th>\n",
       "      <td>ham</td>\n",
       "      <td>Ok lar... Joking wif u oni...</td>\n",
       "    </tr>\n",
       "    <tr>\n",
       "      <th>2</th>\n",
       "      <td>spam</td>\n",
       "      <td>Free entry in 2 a wkly comp to win FA Cup fina...</td>\n",
       "    </tr>\n",
       "    <tr>\n",
       "      <th>3</th>\n",
       "      <td>ham</td>\n",
       "      <td>U dun say so early hor... U c already then say...</td>\n",
       "    </tr>\n",
       "    <tr>\n",
       "      <th>4</th>\n",
       "      <td>ham</td>\n",
       "      <td>Nah I don't think he goes to usf, he lives aro...</td>\n",
       "    </tr>\n",
       "  </tbody>\n",
       "</table>\n",
       "</div>"
      ],
      "text/plain": [
       "  etiqueta                                        mensaje_sms\n",
       "0      ham  Go until jurong point, crazy.. Available only ...\n",
       "1      ham                      Ok lar... Joking wif u oni...\n",
       "2     spam  Free entry in 2 a wkly comp to win FA Cup fina...\n",
       "3      ham  U dun say so early hor... U c already then say...\n",
       "4      ham  Nah I don't think he goes to usf, he lives aro..."
      ]
     },
     "execution_count": 27,
     "metadata": {},
     "output_type": "execute_result"
    }
   ],
   "source": [
    "sms = pd.read_csv('./datos/SMSSpamCollection.txt',sep=\"\\t\", header=None,encoding='latin-1')\n",
    "sms.columns=[\"etiqueta\", \"mensaje_sms\"]\n",
    "sms.head()"
   ]
  },
  {
   "cell_type": "markdown",
   "metadata": {},
   "source": [
    "## Examinación de la data\n",
    "Se examina cuantos mensajes son lejitimos (ham)  y cuantos son suplantados (spam)"
   ]
  },
  {
   "cell_type": "code",
   "execution_count": 28,
   "metadata": {},
   "outputs": [
    {
     "data": {
      "image/png": "[encoded data removed]",
      "text/plain": [
       "<Figure size 432x288 with 1 Axes>"
      ]
     },
     "metadata": {
      "needs_background": "light"
     },
     "output_type": "display_data"
    }
   ],
   "source": [
    "sms.etiqueta.value_counts().plot.bar();"
   ]
  },
  {
   "cell_type": "code",
   "execution_count": 33,
   "metadata": {},
   "outputs": [
    {
     "data": {
      "text/plain": [
       "(5572, 2)"
      ]
     },
     "execution_count": 33,
     "metadata": {},
     "output_type": "execute_result"
    }
   ],
   "source": [
    "sms.shape"
   ]
  },
  {
   "cell_type": "markdown",
   "metadata": {},
   "source": [
    "Son muy pocos los mensajes etiquetados como spam contra los etiquetados como ham. Para facilitar el entrenamiento y predicción del algoritmo de clasificación que se vaya a utilizar, se codificara la variable de salida para ser binaria, es decir 0 si es lejitimo (ham) y 1 si es ilejitimo o falso (spam)"
   ]
  },
  {
   "cell_type": "code",
   "execution_count": 29,
   "metadata": {},
   "outputs": [
    {
     "data": {
      "text/html": [
       "<div>\n",
       "<style scoped>\n",
       "    .dataframe tbody tr th:only-of-type {\n",
       "        vertical-align: middle;\n",
       "    }\n",
       "\n",
       "    .dataframe tbody tr th {\n",
       "        vertical-align: top;\n",
       "    }\n",
       "\n",
       "    .dataframe thead th {\n",
       "        text-align: right;\n",
       "    }\n",
       "</style>\n",
       "<table border=\"1\" class=\"dataframe\">\n",
       "  <thead>\n",
       "    <tr style=\"text-align: right;\">\n",
       "      <th></th>\n",
       "      <th>etiqueta</th>\n",
       "      <th>mensaje_sms</th>\n",
       "    </tr>\n",
       "  </thead>\n",
       "  <tbody>\n",
       "    <tr>\n",
       "      <th>0</th>\n",
       "      <td>0</td>\n",
       "      <td>Go until jurong point, crazy.. Available only ...</td>\n",
       "    </tr>\n",
       "    <tr>\n",
       "      <th>1</th>\n",
       "      <td>0</td>\n",
       "      <td>Ok lar... Joking wif u oni...</td>\n",
       "    </tr>\n",
       "    <tr>\n",
       "      <th>2</th>\n",
       "      <td>1</td>\n",
       "      <td>Free entry in 2 a wkly comp to win FA Cup fina...</td>\n",
       "    </tr>\n",
       "    <tr>\n",
       "      <th>3</th>\n",
       "      <td>0</td>\n",
       "      <td>U dun say so early hor... U c already then say...</td>\n",
       "    </tr>\n",
       "    <tr>\n",
       "      <th>4</th>\n",
       "      <td>0</td>\n",
       "      <td>Nah I don't think he goes to usf, he lives aro...</td>\n",
       "    </tr>\n",
       "  </tbody>\n",
       "</table>\n",
       "</div>"
      ],
      "text/plain": [
       "   etiqueta                                        mensaje_sms\n",
       "0         0  Go until jurong point, crazy.. Available only ...\n",
       "1         0                      Ok lar... Joking wif u oni...\n",
       "2         1  Free entry in 2 a wkly comp to win FA Cup fina...\n",
       "3         0  U dun say so early hor... U c already then say...\n",
       "4         0  Nah I don't think he goes to usf, he lives aro..."
      ]
     },
     "execution_count": 29,
     "metadata": {},
     "output_type": "execute_result"
    }
   ],
   "source": [
    "# Conversion\n",
    "sms['etiqueta'] = sms.etiqueta.map({'ham':0, 'spam':1})\n",
    "# Visualizar las dimensiones de los datos\n",
    "sms.head()"
   ]
  },
  {
   "cell_type": "markdown",
   "metadata": {},
   "source": [
    "## Preparación y partición de set de datos \n",
    "Se parten los datos en entrenamiento y validación: 25% datos para validacion y 75% para entrenamiento"
   ]
  },
  {
   "cell_type": "code",
   "execution_count": 31,
   "metadata": {},
   "outputs": [
    {
     "name": "stdout",
     "output_type": "stream",
     "text": [
      "Number of rows in the total set: 5572\n",
      "Number of rows in the training set: 4179\n",
      "Number of rows in the test set: 1393\n"
     ]
    }
   ],
   "source": [
    "# Dividir los datos en conjunto de entrenamiento y de test\n",
    "\n",
    "X_train, X_test, y_train, y_test = train_test_split(sms['mensaje_sms'], sms['etiqueta'], test_size=0.25, random_state=1)\n",
    "print('Number of rows in the total set: {}'.format(df.shape[0]))\n",
    "print('Number of rows in the training set: {}'.format(X_train.shape[0]))\n",
    "print('Number of rows in the test set: {}'.format(X_test.shape[0]))"
   ]
  },
  {
   "cell_type": "markdown",
   "metadata": {},
   "source": [
    "El conjunto de datos es una gran coleccion de mensajes de texto (en texto plano) (5572 mensajes). Como los modelos solo aceptarán datos numéricos como entrada, se deben procesar los mensajes de texto para convertir. Aquí es donde se aplica “Bag of Words“ entra en juego.\n",
    "\n",
    "“Bag of Words” es un término usado para especificar los problemas que tiene una colección de datos de texto que necesita ser procesada, y trata a cada palabra como un token, de forma independiente y sin darle importancia al orden. La idea es tomar un fragmento de texto y contar la frecuencia de las palabras en el mismo.\n",
    "\n",
    "Se convierte un conjunto de documentos en una matriz, siendo cada documento una fila y cada palabra (token) una columna, y los valores correspondientes (fila, columna) son la frecuencia de ocurrencia de cada palabra (token) en el documento.\n",
    "\n",
    "Para realizar esto, se utilizara la función de sklearn CountVectorizer()  de la libreria sklearn.feature_extraction.text. Esto se debe aplicar tanto a la data de entrenamiento como a la data de validación y son dos matrices aparte."
   ]
  },
  {
   "cell_type": "code",
   "execution_count": 57,
   "metadata": {},
   "outputs": [],
   "source": [
    "##Instanciar el objeto countvectorizer, se aplica stop_words para \n",
    "count_vector = CountVectorizer(stop_words='english')\n",
    "# obtener la matriz de conteo de la data de entrenamiento\n",
    "training_data = count_vector.fit_transform(X_train)\n",
    "# TSe aplica el countvector al set de datos de validación para obtener la segunda matriz\n",
    "testing_data = count_vector.transform(X_test)"
   ]
  },
  {
   "cell_type": "markdown",
   "metadata": {},
   "source": [
    "## Desarrollo Modelos de predicción\n",
    "Se procede a desarrollar diferentes modelos para prubar su robustez y efectividad en la clasificación de los mensajes de spam. Cada modelo primero se entrenara con la data de entrenamiento, la cual fue preprocesada con BoW y luego se procedera a evaluar su capacidad de predicción con la data de test, la cual tambien fue previamente preprocesada con BoW. Se tendra como base de comparación la regresión logistica, como se especifico en el enunciado."
   ]
  },
  {
   "cell_type": "markdown",
   "metadata": {},
   "source": [
    "La capacidad de predicción de los modelos se evaluara contrastando las predicciones que realicen para la data de test (Xtest), con la salida veridica de cada uno de estos registros (ytest), esto se hara por medio de metricas especializadas para modelos de machine learning e inteligencia artificial. Las metricas que se utilizaran para evaluar la robustez de los modelos seran:\n",
    "\n",
    "- Accuracy \n",
    "- Precision\n",
    "- Recall\n",
    "- F1\n",
    "\n",
    "En la siguiente imagen se especifica la formula para cada metrica. Estas se basan en los verdaderos positivos (true positives TP), verdaderos negativos (true negatives TN), falsos positivos (false positive FP) y falsos negativos (false negatives FN):\n",
    "\n",
    "<img src=\"https://miro.medium.com/max/1842/1*7iCBfKN5tMOFFD6hNHG4JQ.png\">"
   ]
  },
  {
   "cell_type": "markdown",
   "metadata": {},
   "source": [
    "Ademas de las metricas enunciadas anteriormente, tambien se evaluara la robustez del modelo con la matriz de confusión, la cual hace mas explicito observar la cantidad de falsos positivos, falsos negativos, verdaderos positivos y verdaderos negativos predichos por el modelo. Tiene la siguiente estructura: \n",
    "\n",
    "<img src=\"https://cdn-images-1.medium.com/max/1000/1*BTB9weIUfSsSRy5kvh_-uA.png\">\n"
   ]
  },
  {
   "cell_type": "code",
   "execution_count": 59,
   "metadata": {},
   "outputs": [],
   "source": [
    "from sklearn.metrics import classification_report, confusion_matrix\n",
    "import itertools\n",
    "def plot_confusion_matrix(cm, classes,\n",
    "                          normalize=False,\n",
    "                          title='Confusion matrix',\n",
    "                          cmap=plt.cm.Blues):\n",
    "    \"\"\"\n",
    "    This function prints and plots the confusion matrix.\n",
    "    Normalization can be applied by setting `normalize=True`.\n",
    "    \"\"\"\n",
    "    if normalize:\n",
    "        cm = cm.astype('float') / cm.sum(axis=1)[:, np.newaxis]\n",
    "        print(\"Normalized confusion matrix\")\n",
    "    else:\n",
    "        print('Confusion matrix, without normalization')\n",
    "\n",
    "    print(cm)\n",
    "\n",
    "    plt.imshow(cm, interpolation='nearest', cmap=cmap)\n",
    "    plt.title(title)\n",
    "    plt.colorbar()\n",
    "    tick_marks = np.arange(len(classes))\n",
    "    plt.xticks(tick_marks, classes, rotation=45)\n",
    "    plt.yticks(tick_marks, classes)\n",
    "\n",
    "    fmt = '.2f' if normalize else 'd'\n",
    "    thresh = cm.max() / 2.\n",
    "    for i, j in itertools.product(range(cm.shape[0]), range(cm.shape[1])):\n",
    "        plt.text(j, i, format(cm[i, j], fmt),\n",
    "                 horizontalalignment=\"center\",\n",
    "                 color=\"white\" if cm[i, j] > thresh else \"black\")\n",
    "\n",
    "    plt.tight_layout()\n",
    "    plt.ylabel('True label')\n",
    "    plt.xlabel('Predicted label')"
   ]
  },
  {
   "cell_type": "markdown",
   "metadata": {},
   "source": [
    "### Implementación Regresión Logistica\n",
    "Se procede  implementar un modelo de regresión logistica, primero se entrenara con la data de train"
   ]
  },
  {
   "cell_type": "raw",
   "metadata": {},
   "source": [
    "LR = LogisticRegression(C=0.5, solver='lbfgs').fit(training_data,y_train)\n",
    "LR"
   ]
  },
  {
   "cell_type": "markdown",
   "metadata": {},
   "source": [
    "Prueba y validación"
   ]
  },
  {
   "cell_type": "code",
   "execution_count": 74,
   "metadata": {},
   "outputs": [],
   "source": [
    "predictions = LR.predict(testing_data)"
   ]
  },
  {
   "cell_type": "markdown",
   "metadata": {},
   "source": [
    "Obtención de metricas para el modelo de regresion lineal"
   ]
  },
  {
   "cell_type": "code",
   "execution_count": 75,
   "metadata": {},
   "outputs": [
    {
     "name": "stdout",
     "output_type": "stream",
     "text": [
      "Accuracy score:  0.9117013639626705\n",
      "Precision score:  1.0\n",
      "Recall score:  0.33513513513513515\n",
      "F1 score:  0.5020242914979757\n",
      "-----------------------------------------------------------------------------\n",
      "              precision    recall  f1-score   support\n",
      "\n",
      "           0       0.91      1.00      0.95      1208\n",
      "           1       1.00      0.34      0.50       185\n",
      "\n",
      "    accuracy                           0.91      1393\n",
      "   macro avg       0.95      0.67      0.73      1393\n",
      "weighted avg       0.92      0.91      0.89      1393\n",
      "\n"
     ]
    }
   ],
   "source": [
    "print('Accuracy score: ', format(accuracy_score(y_test, predictions)))\n",
    "print('Precision score: ', format(precision_score(y_test, predictions)))\n",
    "print('Recall score: ', format(recall_score(y_test, predictions)))\n",
    "print('F1 score: ', format(f1_score(y_test, predictions)))\n",
    "print('-----------------------------------------------------------------------------')\n",
    "print (classification_report(y_test, predictions))"
   ]
  },
  {
   "cell_type": "markdown",
   "metadata": {},
   "source": [
    "Matriz de confusión"
   ]
  },
  {
   "cell_type": "code",
   "execution_count": 76,
   "metadata": {},
   "outputs": [
    {
     "name": "stdout",
     "output_type": "stream",
     "text": [
      "Confusion matrix, without normalization\n",
      "[[  62  123]\n",
      " [   0 1208]]\n"
     ]
    },
    {
     "data": {
      "image/png": "[encoded data removed]",
      "text/plain": [
       "<Figure size 432x288 with 2 Axes>"
      ]
     },
     "metadata": {
      "needs_background": "light"
     },
     "output_type": "display_data"
    }
   ],
   "source": [
    "# Compute confusion matrix\n",
    "\n",
    "cnf_matrix = confusion_matrix(y_test, predictions, labels=[1,0])\n",
    "np.set_printoptions(precision=2)\n",
    "\n",
    "\n",
    "# Plot non-normalized confusion matrix\n",
    "plt.figure()\n",
    "plot_confusion_matrix(cnf_matrix, classes=['churn=1','churn=0'],normalize= False,  title='Confusion matrix')"
   ]
  },
  {
   "cell_type": "markdown",
   "metadata": {},
   "source": [
    "El modelo de regresión lineal se probo con varios tipos de solver y variando el valor del parametro C, pero no se observaron cambios en las metricas evaluadas. El desempeño de este modelo presenta una buena clasificacion de los verdaderos negativos (mensajes clasificados como no spam que en verdad son no spam), tambien es bueno identificando falsos positivos (mensajes no spam clasificados como spam). Sin embargo se raja con los verdaderos positivos (menajes spam clasificados como spam) y los falsos negativos (mensajes que son spam pero se clasifican como no spam). Lo mas rescatable es que no clasifica ningun mensaje no spam como spam, es decir, todos los mensajes autenticos (ham) se clasifican como son."
   ]
  },
  {
   "cell_type": "markdown",
   "metadata": {},
   "source": [
    "### Implementación Naive Bayes\n",
    "Entrenamiento"
   ]
  },
  {
   "cell_type": "code",
   "execution_count": 80,
   "metadata": {},
   "outputs": [
    {
     "data": {
      "text/plain": [
       "MultinomialNB(alpha=1.0, class_prior=None, fit_prior=True)"
      ]
     },
     "execution_count": 80,
     "metadata": {},
     "output_type": "execute_result"
    }
   ],
   "source": [
    "naive_bayes = MultinomialNB()\n",
    "naive_bayes.fit(training_data, y_train)"
   ]
  },
  {
   "cell_type": "markdown",
   "metadata": {},
   "source": [
    "validación y prueba"
   ]
  },
  {
   "cell_type": "code",
   "execution_count": 81,
   "metadata": {},
   "outputs": [],
   "source": [
    "predictions = naive_bayes.predict(testing_data)"
   ]
  },
  {
   "cell_type": "markdown",
   "metadata": {},
   "source": [
    "Se procede a obtener las metricas del modelo Naive Bayes"
   ]
  },
  {
   "cell_type": "code",
   "execution_count": 82,
   "metadata": {},
   "outputs": [
    {
     "name": "stdout",
     "output_type": "stream",
     "text": [
      "Accuracy score:  0.9892318736539842\n",
      "Precision score:  0.9722222222222222\n",
      "Recall score:  0.9459459459459459\n",
      "F1 score:  0.9589041095890412\n",
      "-----------------------------------------------------------------------------\n",
      "              precision    recall  f1-score   support\n",
      "\n",
      "           0       0.99      1.00      0.99      1208\n",
      "           1       0.97      0.95      0.96       185\n",
      "\n",
      "    accuracy                           0.99      1393\n",
      "   macro avg       0.98      0.97      0.98      1393\n",
      "weighted avg       0.99      0.99      0.99      1393\n",
      "\n"
     ]
    }
   ],
   "source": [
    "\n",
    "print('Accuracy score: ', format(accuracy_score(y_test, predictions)))\n",
    "print('Precision score: ', format(precision_score(y_test, predictions)))\n",
    "print('Recall score: ', format(recall_score(y_test, predictions)))\n",
    "print('F1 score: ', format(f1_score(y_test, predictions)))\n",
    "print('-----------------------------------------------------------------------------')\n",
    "print (classification_report(y_test, predictions))"
   ]
  },
  {
   "cell_type": "markdown",
   "metadata": {},
   "source": [
    "Tambien se aplica la matriz de confusión"
   ]
  },
  {
   "cell_type": "code",
   "execution_count": 83,
   "metadata": {},
   "outputs": [
    {
     "name": "stdout",
     "output_type": "stream",
     "text": [
      "Confusion matrix, without normalization\n",
      "[[ 175   10]\n",
      " [   5 1203]]\n"
     ]
    },
    {
     "data": {
      "image/png": "[encoded data removed]",
      "text/plain": [
       "<Figure size 432x288 with 2 Axes>"
      ]
     },
     "metadata": {
      "needs_background": "light"
     },
     "output_type": "display_data"
    }
   ],
   "source": [
    "# Compute confusion matrix\n",
    "\n",
    "cnf_matrix = confusion_matrix(y_test, predictions, labels=[1,0])\n",
    "np.set_printoptions(precision=2)\n",
    "\n",
    "\n",
    "# Plot non-normalized confusion matrix\n",
    "plt.figure()\n",
    "plot_confusion_matrix(cnf_matrix, classes=['churn=1','churn=0'],normalize= False,  title='Confusion matrix')"
   ]
  },
  {
   "cell_type": "markdown",
   "metadata": {},
   "source": [
    "El modelo Naive Bayes tiene muy buen desempeño, presenta altos valores en las metricas evaluadas y su matriz de confusión muestra que los falsos positivos y los falsos negativos son muy pocos comparados con los verdaderos positivos y aun mas con los verdaderos negativo. Es un muy buen modelo, aunque deja filtrar mensajes de spam como si no fueran spam pero lo mas grave es que clasifica mensajes no spam como spam"
   ]
  },
  {
   "cell_type": "markdown",
   "metadata": {},
   "source": [
    "### Implementación maquina de soporte vectorial (SVM)\n",
    "Entrenamiento"
   ]
  },
  {
   "cell_type": "code",
   "execution_count": 84,
   "metadata": {},
   "outputs": [
    {
     "data": {
      "text/plain": [
       "SVC(C=1.0, break_ties=False, cache_size=200, class_weight=None, coef0=0.0,\n",
       "    decision_function_shape='ovr', degree=3, gamma='scale', kernel='rbf',\n",
       "    max_iter=-1, probability=False, random_state=None, shrinking=True,\n",
       "    tol=0.001, verbose=False)"
      ]
     },
     "execution_count": 84,
     "metadata": {},
     "output_type": "execute_result"
    }
   ],
   "source": [
    "clf = svm.SVC()\n",
    "clf.fit(training_data, y_train)"
   ]
  },
  {
   "cell_type": "markdown",
   "metadata": {},
   "source": [
    "Validación y prueba"
   ]
  },
  {
   "cell_type": "code",
   "execution_count": 85,
   "metadata": {},
   "outputs": [],
   "source": [
    "predictions = clf.predict(testing_data)"
   ]
  },
  {
   "cell_type": "markdown",
   "metadata": {},
   "source": [
    "Metricas de SVM"
   ]
  },
  {
   "cell_type": "code",
   "execution_count": 86,
   "metadata": {},
   "outputs": [
    {
     "name": "stdout",
     "output_type": "stream",
     "text": [
      "Accuracy score:  0.9820531227566404\n",
      "Precision score:  1.0\n",
      "Recall score:  0.8648648648648649\n",
      "F1 score:  0.927536231884058\n",
      "-----------------------------------------------------------------------------\n",
      "              precision    recall  f1-score   support\n",
      "\n",
      "           0       0.98      1.00      0.99      1208\n",
      "           1       1.00      0.86      0.93       185\n",
      "\n",
      "    accuracy                           0.98      1393\n",
      "   macro avg       0.99      0.93      0.96      1393\n",
      "weighted avg       0.98      0.98      0.98      1393\n",
      "\n"
     ]
    }
   ],
   "source": [
    "print('Accuracy score: ', format(accuracy_score(y_test, predictions)))\n",
    "print('Precision score: ', format(precision_score(y_test, predictions)))\n",
    "print('Recall score: ', format(recall_score(y_test, predictions)))\n",
    "print('F1 score: ', format(f1_score(y_test, predictions)))\n",
    "print('-----------------------------------------------------------------------------')\n",
    "print (classification_report(y_test, predictions))"
   ]
  },
  {
   "cell_type": "code",
   "execution_count": 87,
   "metadata": {},
   "outputs": [
    {
     "name": "stdout",
     "output_type": "stream",
     "text": [
      "Confusion matrix, without normalization\n",
      "[[ 160   25]\n",
      " [   0 1208]]\n"
     ]
    },
    {
     "data": {
      "image/png": "[encoded data removed]",
      "text/plain": [
       "<Figure size 432x288 with 2 Axes>"
      ]
     },
     "metadata": {
      "needs_background": "light"
     },
     "output_type": "display_data"
    }
   ],
   "source": [
    "# Compute confusion matrix\n",
    "\n",
    "cnf_matrix = confusion_matrix(y_test, predictions, labels=[1,0])\n",
    "np.set_printoptions(precision=2)\n",
    "\n",
    "\n",
    "# Plot non-normalized confusion matrix\n",
    "plt.figure()\n",
    "plot_confusion_matrix(cnf_matrix, classes=['churn=1','churn=0'],normalize= False,  title='Confusion matrix')"
   ]
  },
  {
   "cell_type": "markdown",
   "metadata": {},
   "source": [
    "Aunque la maquina de soporte vectorial presenta mejores resultados que la regresión logistica y tiene una tasa de cero falsos positivos (mensajes que se clasifican como spam pero no lo son), presenta una tasa mayor de falsos negativos (mensajes spam clasificados como no spam) es decir, deja filtrar mensajes de spam. Lo mas rescatable es que no clasifica ningun mensaje no spam como spam, es decir, todos los mensajes autenticos (ham) se clasifican como son."
   ]
  },
  {
   "cell_type": "markdown",
   "metadata": {},
   "source": [
    "### Red Neuronal MLPClassifier"
   ]
  },
  {
   "cell_type": "markdown",
   "metadata": {},
   "source": [
    "Se evaluara un modelo Perceptron clasificador multi capa (Multi-layer Perceptron classifier) y el numero de neuronas por capa oculta y numero de capas ocultas a tener encuenta. Este se evaluara con cross validation"
   ]
  },
  {
   "cell_type": "code",
   "execution_count": 90,
   "metadata": {},
   "outputs": [],
   "source": [
    "#\n",
    "# Evalua el clasificador usando validación cruzada\n",
    "#\n",
    "\n",
    "\n",
    "def evaluate_cross_validation(clf, X, y, n_splits):\n",
    "\n",
    "    # Crea el objeto para partir los datos\n",
    "    kf = KFold(n_splits=n_splits, shuffle=True, random_state=8)\n",
    "\n",
    "    # Realiza la partición para la muestra de datos de entrenamiento\n",
    "    cv = kf.get_n_splits(X)\n",
    "\n",
    "    # Ejecuta el entrenamiento para cada partifición\n",
    "    scores = cross_val_score(clf, X, y, cv=cv, scoring = 'neg_mean_squared_error')\n",
    "\n",
    "    # Reporta los resultados\n",
    "    return(scores)"
   ]
  },
  {
   "cell_type": "markdown",
   "metadata": {},
   "source": [
    "Primero evaluamos el numero de neuronas por capa oculta"
   ]
  },
  {
   "cell_type": "code",
   "execution_count": null,
   "metadata": {},
   "outputs": [],
   "source": [
    "\n",
    "parameter_space = {\n",
    "    'hidden_layer_sizes': [(1,),(2,),(3,),(4,),(5,),(6,),(7,),(8,),(9,),(10,),(12,),(14,),(16,),(18,),(20,),\n",
    "                           (25,),(30,),(35,),(40,),(45,),(50,),\n",
    "                           (50,50,50),(100,),(50,100,50)],\n",
    "}\n",
    "\n",
    "regresor = MLPClassifier(max_iter = 10000)\n",
    "\n",
    "\n",
    "clf1 = GridSearchCV(regresor, parameter_space, n_jobs=-1, cv=10)\n",
    "clf1.fit(training_data, y_train)"
   ]
  },
  {
   "cell_type": "code",
   "execution_count": null,
   "metadata": {},
   "outputs": [],
   "source": []
  },
  {
   "cell_type": "markdown",
   "metadata": {},
   "source": [
    "## Conclusiones"
   ]
  },
  {
   "cell_type": "markdown",
   "metadata": {},
   "source": [
    "- Para poder procesar cadena de caracteres, como son los sms (mensajes de texto), se hace necesario preprocesar la información para obtener una matriz numerica que los diferentes modelos puedan utilizar para entrenarse y predecir. Para esto se hizo uso de la tecnica BoW (Bag of Words), la cual tokeniza las palabras y entrega una matriz donde cada fila corresponde a un sms o cadeja de caracter de la data de entrada (mensaje de texto) y cada columna es una palabra y la intersección fila columna es un numero que dice cuantas veces se repite dicha palabra en dicho sms. Esta matriz se obtiene tanto para la data de entrenamiento como para la data de predicción. Este procesamiento se puede llevar acabo con la libreria sklearn y su modulo de preprosesamiento CountVectorizer.\n",
    "- Cuando la cantidad de mensajes o cadena de caracteres a analizar es muy grande, palabras comunes del idioma (por ejemplo 'el', 'es', 'la' entre otros; o ingles 'the', 'a', 'of', 'and' etc) pueden cesgar el entrenamiento del modelo, es prudente eliminar estas palabras para tener una data mas limpia para trabajar. Este proceso de limpieza puede llevarse acabo con una propiedad de CountVectorizer llamada stop_words, a la cual se le puede pasar una lista de palabras a tener encuenta para eliminar o si el idioma de la data analizada es ingles, la libreria ya tiene una lista de palabras lista para usar con solo poner 'english' como parametro como se hizo en este ejercicio.\n",
    "- Los modelos evaluados presentaron en general muy buen desempeño. Se destaca el modelo de Naive Bayes y la maquina de soporte vectorial. Para elegir un modelo u otro se debe entender que se quiere del modelo, ya que por ejemplo el modelo de Naive Bayes presenta muy buenas metricas y muy bajas tasas de falsos negativos (es decir, mensajes spam que se clasifican como no spam) loq ue queire decir que no deja filtrar muchos mensajes spam, pero tiene una falencia y es que tiene una tasa, aunque sea pequeña, de falsos positivos (mensajes clasificados como spam que no son spam) es decir, que clasifica como spam mensajes legitimos, lo cual podria llevar a una perdida de información que puede ser grave en algun punto, segun sea la necesidad. Pro otra parte, los modelos como la maquina de soporte vectorial y regresión logistica, aunque presentan una tasa moderada (y mayor al modelo de Naive) de falsos negativos, es decir dejan filtrar mensajes spam, presentan una tasa 0 de falsos positivos, es decir no se pierden mensajes legitimos por clasificarlos como spam."
   ]
  },
  {
   "cell_type": "code",
   "execution_count": null,
   "metadata": {},
   "outputs": [],
   "source": []
  }
 ],
 "metadata": {
  "colab": {
   "include_colab_link": true,
   "name": "Copia de Untitled3.ipynb",
   "provenance": [],
   "version": "0.3.2"
  },
  "kernelspec": {
   "display_name": "Python 3",
   "language": "python",
   "name": "python3"
  },
  "language_info": {
   "codemirror_mode": {
    "name": "ipython",
    "version": 3
   },
   "file_extension": ".py",
   "mimetype": "text/x-python",
   "name": "python",
   "nbconvert_exporter": "python",
   "pygments_lexer": "ipython3",
   "version": "3.7.6"
  }
 },
 "nbformat": 4,
 "nbformat_minor": 2
}
